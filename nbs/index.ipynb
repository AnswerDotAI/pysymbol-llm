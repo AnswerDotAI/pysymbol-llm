{
 "cells": [
  {
   "cell_type": "markdown",
   "metadata": {},
   "source": [
    "# pysymbol-llm\n",
    "\n",
    "> Generate manifest of public symbols win python projects w/docstrings"
   ]
  },
  {
   "cell_type": "markdown",
   "metadata": {},
   "source": [
    "## Developer Guide"
   ]
  },
  {
   "cell_type": "markdown",
   "metadata": {},
   "source": [
    "If you are new to using `nbdev` here are some useful pointers to get you started."
   ]
  },
  {
   "cell_type": "markdown",
   "metadata": {},
   "source": [
    "### Install pysymbol_llm in Development mode"
   ]
  },
  {
   "cell_type": "markdown",
   "metadata": {},
   "source": [
    "```sh\n",
    "# make sure pysymbol_llm package is installed in development mode\n",
    "$ pip install -e .\n",
    "\n",
    "# make changes under nbs/ directory\n",
    "# ...\n",
    "\n",
    "# compile to have changes apply to pysymbol_llm\n",
    "$ nbdev_prepare\n",
    "```"
   ]
  },
  {
   "cell_type": "markdown",
   "metadata": {},
   "source": [
    "## Usage"
   ]
  },
  {
   "cell_type": "markdown",
   "metadata": {},
   "source": [
    "### Installation"
   ]
  },
  {
   "cell_type": "markdown",
   "metadata": {},
   "source": [
    "Install latest from the GitHub [repository][repo]:\n",
    "\n",
    "```sh\n",
    "$ pip install git+https://github.com/AnswerDotAI/pysymbol-llm.git\n",
    "```\n",
    "\n",
    "or from [conda][conda]\n",
    "\n",
    "```sh\n",
    "$ conda install -c AnswerDotAI pysymbol_llm\n",
    "```\n",
    "\n",
    "or from [pypi][pypi]\n",
    "\n",
    "\n",
    "```sh\n",
    "$ pip install pysymbol_llm\n",
    "```\n",
    "\n",
    "\n",
    "[repo]: https://github.com/AnswerDotAI/pysymbol-llm\n",
    "[docs]: https://AnswerDotAI.github.io/pysymbol-llm/\n",
    "[pypi]: https://pypi.org/project/pysymbol-llm/\n",
    "[conda]: https://anaconda.org/AnswerDotAI/pysymbol-llm"
   ]
  },
  {
   "cell_type": "markdown",
   "metadata": {},
   "source": [
    "### Documentation"
   ]
  },
  {
   "cell_type": "markdown",
   "metadata": {},
   "source": [
    "Documentation can be found hosted on this GitHub [repository][repo]'s [pages][docs]. Additionally you can find package manager specific guidelines on [conda][conda] and [pypi][pypi] respectively.\n",
    "\n",
    "[repo]: https://github.com/AnswerDotAI/pysymbol-llm\n",
    "[docs]: https://AnswerDotAI.github.io/pysymbol-llm/\n",
    "[pypi]: https://pypi.org/project/pysymbol-llm/\n",
    "[conda]: https://anaconda.org/AnswerDotAI/pysymbol-llm"
   ]
  },
  {
   "cell_type": "markdown",
   "metadata": {},
   "source": [
    "## How to use"
   ]
  },
  {
   "cell_type": "code",
   "execution_count": null,
   "metadata": {},
   "outputs": [
    {
     "name": "stdout",
     "output_type": "stream",
     "text": [
      "usage: pysym2md [-h] [--include_no_docstring] [--verbose]\r\n",
      "                [--output_file OUTPUT_FILE]\r\n",
      "                package_name\r\n",
      "\r\n",
      "Generate a list of symbols corresponding to a python package in a markdown\r\n",
      "format.\r\n",
      "\r\n",
      "positional arguments:\r\n",
      "  package_name               Name of the Python package\r\n",
      "\r\n",
      "options:\r\n",
      "  -h, --help                 show this help message and exit\r\n",
      "  --include_no_docstring     Include symbols without docstrings? (default:\r\n",
      "                             False)\r\n",
      "  --verbose                  Turn on verbose logging? (default: True)\r\n",
      "  --output_file OUTPUT_FILE  The output file (default: filelist.md)\r\n"
     ]
    }
   ],
   "source": [
    "!pysym2md -h"
   ]
  },
  {
   "cell_type": "code",
   "execution_count": null,
   "metadata": {},
   "outputs": [],
   "source": []
  }
 ],
 "metadata": {
  "kernelspec": {
   "display_name": "python3",
   "language": "python",
   "name": "python3"
  }
 },
 "nbformat": 4,
 "nbformat_minor": 4
}
