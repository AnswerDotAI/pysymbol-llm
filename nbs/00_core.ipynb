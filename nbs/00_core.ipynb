{
 "cells": [
  {
   "cell_type": "markdown",
   "metadata": {},
   "source": [
    "# core\n",
    "\n",
    "> Create a list of symbols in a python package"
   ]
  },
  {
   "cell_type": "code",
   "execution_count": 1,
   "metadata": {},
   "outputs": [],
   "source": [
    "#| default_exp core"
   ]
  },
  {
   "cell_type": "code",
   "execution_count": 2,
   "metadata": {},
   "outputs": [],
   "source": [
    "#|export\n",
    "import importlib\n",
    "import pkgutil\n",
    "from astroid import MANAGER, FunctionDef, ClassDef\n",
    "from fastcore.utils import Path\n",
    "from fastcore.script import call_parse, store_false, store_true, Param"
   ]
  },
  {
   "cell_type": "code",
   "execution_count": 3,
   "metadata": {},
   "outputs": [],
   "source": [
    "#|hide\n",
    "from fastcore.test import test_eq\n",
    "from astroid import parse, extract_node"
   ]
  },
  {
   "cell_type": "markdown",
   "metadata": {},
   "source": [
    "## Format Symbols\n",
    "\n",
    "Once you collect symbols, you want to format it as a markdown list"
   ]
  },
  {
   "cell_type": "code",
   "execution_count": 4,
   "metadata": {},
   "outputs": [],
   "source": [
    "#| export\n",
    "def format_symbol(name, signature, doc, decorators=None, is_method=False):\n",
    "    \"format the information in markdown\"\n",
    "    params = signature.split('(', 1)[1].rsplit(')', 1)[0] if '(' in signature else ''\n",
    "    decorator_str = ' '.join(f'@{d}' for d in decorators) + ' ' if decorators else ''\n",
    "    formatted = f\"- `{decorator_str}{name}({params})`\\n\" if is_method else f\"- `{decorator_str}def {name}({params})`\\n\"    \n",
    "    if doc:\n",
    "        doc_lines = doc.strip().split('\\n')\n",
    "        formatted += '    ' + '\\n    '.join(doc_lines) + '\\n'\n",
    "    return formatted"
   ]
  },
  {
   "cell_type": "code",
   "execution_count": 5,
   "metadata": {},
   "outputs": [],
   "source": [
    "#|hide\n",
    "test_eq(format_symbol(\"hello\", \"hello()\", \"This is a test function\"), \"- `def hello()`\\n    This is a test function\\n\")\n",
    "\n",
    "# Test method formatting\n",
    "test_eq(format_symbol(\"world\", \"world(self)\", \"A method\", is_method=True), \"- `world(self)`\\n    A method\\n\")\n",
    "\n",
    "# Test with decorators\n",
    "test_eq(format_symbol(\"decorated\", \"decorated()\", \"Decorated function\", decorators=[\"decorator1\", \"decorator2\"]), \"- `@decorator1 @decorator2 def decorated()`\\n    Decorated function\\n\")\n",
    "\n",
    "# Test with parameters\n",
    "test_eq(format_symbol(\"params\", \"params(a, b, c=None)\", \"Function with parameters\"), \"- `def params(a, b, c=None)`\\n    Function with parameters\\n\")\n",
    "\n",
    "# Test with multi-line docstring\n",
    "test_eq(format_symbol(\"multiline\", \"multiline()\", \"First line\\nSecond line\\nThird line\"), \"- `def multiline()`\\n    First line\\n    Second line\\n    Third line\\n\")\n",
    "\n",
    "# Test with no docstring\n",
    "test_eq(format_symbol(\"no_doc\", \"no_doc()\", \"\"), \"- `def no_doc()`\\n\")\n",
    "\n",
    "# Test method with decorators and parameters\n",
    "test_eq(format_symbol(\"complex\", \"complex(self, x, y=0)\", \"Complex method\", decorators=[\"classmethod\"], is_method=True), \"- `@classmethod complex(self, x, y=0)`\\n    Complex method\\n\")"
   ]
  },
  {
   "cell_type": "markdown",
   "metadata": {},
   "source": [
    "## Parse Symbols In The Module\n",
    "\n",
    "Next we parse symbols in the module that we want to list."
   ]
  },
  {
   "cell_type": "code",
   "execution_count": 6,
   "metadata": {},
   "outputs": [],
   "source": [
    "#| export\n",
    "def is_public_symbol(name): return not name.startswith('_') or (name.startswith('__') and name.endswith('__'))\n",
    "def is_valid_method(method, method_name): return isinstance(method, FunctionDef) and is_public_symbol(method_name)\n",
    "def get_decorators(obj): return [d.as_string() for d in obj.decorators.nodes] if obj.decorators else []\n",
    "def log_error(name, error): raise RuntimeError(f\"Error processing symbol {name}: {str(error)}\")"
   ]
  },
  {
   "cell_type": "code",
   "execution_count": 7,
   "metadata": {},
   "outputs": [],
   "source": [
    "#|export\n",
    "def get_params(func):\n",
    "    params = []\n",
    "    for arg in func.args.args: params.append(arg.name)\n",
    "    if func.args.vararg: params.append(f\"*{func.args.vararg}\")\n",
    "    if func.args.kwarg: params.append(f\"**{func.args.kwarg}\")\n",
    "    return ', '.join(params)"
   ]
  },
  {
   "cell_type": "code",
   "execution_count": 8,
   "metadata": {},
   "outputs": [],
   "source": [
    "#|export\n",
    "def process_function(func, name, include_no_docstring):\n",
    "    \"Parse functions\"\n",
    "    params = get_params(func)\n",
    "    signature = f\"{name}({params})\"\n",
    "    doc = func.doc_node.value if func.doc_node else \"\"\n",
    "    decorators = get_decorators(func)\n",
    "    if include_no_docstring or doc:\n",
    "        return ('function', name, signature, doc, decorators)\n",
    "    return None"
   ]
  },
  {
   "cell_type": "code",
   "execution_count": 9,
   "metadata": {},
   "outputs": [],
   "source": [
    "#|hide\n",
    "func_with_doc = parse('''\n",
    "def test_func(a, b):\n",
    "    \"\"\"This is a test function\"\"\"\n",
    "    pass\n",
    "''').body[0]\n",
    "\n",
    "result = process_function(func_with_doc, 'test_func', False)\n",
    "test_eq(result, ('function', 'test_func', 'test_func(a, b)', 'This is a test function', []))"
   ]
  },
  {
   "cell_type": "code",
   "execution_count": 10,
   "metadata": {},
   "outputs": [],
   "source": [
    "#|export\n",
    "def _process_method(method, method_name):\n",
    "    method_params = get_params(method)\n",
    "    method_signature = f\"{method_name}({method_params})\"\n",
    "    method_doc = method.doc_node.value if method.doc_node else \"\"\n",
    "    method_decorators = get_decorators(method)\n",
    "    return (method_name, method_signature, method_doc, method_decorators)\n",
    "\n",
    "def process_class(cls, name, include_no_docstring):\n",
    "    \"Parse classes.\"\n",
    "    class_doc = cls.doc_node.value if cls.doc_node else \"\"\n",
    "    class_decorators = get_decorators(cls)\n",
    "    methods = [_process_method(method, method_name) \n",
    "               for method_name, method in cls.items() \n",
    "               if is_valid_method(method, method_name)]\n",
    "    return ('class', name, class_doc, class_decorators, methods)"
   ]
  },
  {
   "cell_type": "markdown",
   "metadata": {},
   "source": [
    "For example, this is how a Class will be parsed:"
   ]
  },
  {
   "cell_type": "code",
   "execution_count": 11,
   "metadata": {},
   "outputs": [],
   "source": [
    "mock_class = extract_node('''\n",
    "@decorator\n",
    "class TestClass:\n",
    "    \"\"\"\n",
    "    Class docstring\n",
    "    with multiple lines\n",
    "    \"\"\"\n",
    "    @staticmethod\n",
    "    def method1(arg1):\n",
    "        \"\"\"\n",
    "        Method1 docstring\n",
    "        with multiple lines\n",
    "        \"\"\"\n",
    "        pass\n",
    "    def method2(self):\n",
    "        \"\"\"Single line docstring\"\"\"\n",
    "        pass\n",
    "''')\n",
    "\n",
    "# Process the class\n",
    "result = process_class(mock_class, \"TestClass\", True)\n",
    "\n",
    "# Test equality\n",
    "test_eq(result, (\n",
    "    'class',\n",
    "    'TestClass',\n",
    "    '\\n    Class docstring\\n    with multiple lines\\n    ',\n",
    "    ['decorator'],\n",
    "    [\n",
    "        ('method1', 'method1(arg1)', '\\n        Method1 docstring\\n        with multiple lines\\n        ', ['staticmethod']),\n",
    "        ('method2', 'method2(self)', 'Single line docstring', [])\n",
    "    ]\n",
    "))"
   ]
  },
  {
   "cell_type": "code",
   "execution_count": 12,
   "metadata": {},
   "outputs": [],
   "source": [
    "#|export\n",
    "def get_public_symbols(module, include_no_docstring):\n",
    "    \"Extract all public symbols\"\n",
    "    symbols = []\n",
    "    for name, obj in module.items():\n",
    "        if is_public_symbol(name):\n",
    "            try:\n",
    "                if isinstance(obj, FunctionDef):\n",
    "                    symbol = process_function(obj, name, include_no_docstring)\n",
    "                    if symbol: symbols.append(symbol)\n",
    "                elif isinstance(obj, ClassDef):\n",
    "                    symbols.append(process_class(obj, name, include_no_docstring))\n",
    "            except Exception as e: log_error(name, e)\n",
    "    return symbols"
   ]
  },
  {
   "cell_type": "code",
   "execution_count": 13,
   "metadata": {},
   "outputs": [],
   "source": [
    "#|hide\n",
    "test_module = parse('''\n",
    "def public_function():\n",
    "    \"\"\"This is a public function\"\"\"\n",
    "    pass\n",
    "\n",
    "def _private_function(): pass\n",
    "\n",
    "class PublicClass:\n",
    "    \"\"\"This is a public class\"\"\"\n",
    "    def method(self):\n",
    "        pass\n",
    "    def _private_method(): pass\n",
    "\n",
    "_private_function = lambda: None\n",
    "''')\n",
    "\n",
    "# Test 1: Get public symbols without including symbols that lack docstrings\n",
    "result = get_public_symbols(test_module, False)\n",
    "\n",
    "# Should have 2 public symbols\n",
    "test_eq(len(result), 2)\n",
    "# First item should be public_function\n",
    "test_eq(result[0][1], 'public_function')\n",
    "# Second item should be PublicClass\n",
    "test_eq(result[1][1], 'PublicClass')\n",
    "\n",
    "# Test 2: Get public symbols including symbols that lack docstrings\n",
    "result_with_no_docstring = get_public_symbols(test_module, True)\n",
    "\n",
    "# Should still have 2 public symbols\n",
    "test_eq(len(result_with_no_docstring), 2)\n",
    "# PublicClass should have 1 public method\n",
    "test_eq(len(result_with_no_docstring[1][4]), 1)\n",
    "# PublicClass should include 'method'\n",
    "test_eq(result_with_no_docstring[1][4][0][0], 'method')"
   ]
  },
  {
   "cell_type": "code",
   "execution_count": 14,
   "metadata": {},
   "outputs": [],
   "source": [
    "#|export\n",
    "def generate_markdown(package_name, include_no_docstring, verbose=False):\n",
    "    markdown = [f\"# {package_name} Module Documentation\\n\\n\"]\n",
    "    \n",
    "    try: package = importlib.import_module(package_name)\n",
    "    except ImportError: raise ImportError(f\"Could not import package {package_name}. Is it installed?\")\n",
    "\n",
    "    for _, module_name, _ in pkgutil.walk_packages(package.__path__, package.__name__ + '.'):\n",
    "        try:\n",
    "            if verbose: print(f\"Processing module: {module_name}\")\n",
    "            module = MANAGER.ast_from_module_name(module_name)\n",
    "            symbols = get_public_symbols(module, include_no_docstring)\n",
    "            \n",
    "            if symbols:\n",
    "                markdown.append(f\"## {module_name}\\n\\n\")\n",
    "                module_doc = module.doc_node.value if module.doc_node else \"\"\n",
    "                \n",
    "                if module_doc:\n",
    "                    markdown.append(\"> \" + \"\\n> \".join(module_doc.strip().split('\\n')) + \"\\n\\n\")\n",
    "                \n",
    "                for symbol in symbols:\n",
    "                    if symbol[0] == 'function':\n",
    "                        _, name, signature, doc, decorators = symbol\n",
    "                        decorator_str = ' '.join(f'@{d}' for d in decorators)\n",
    "                        markdown.append(f\"- `{decorator_str} def {signature}`\\n\")\n",
    "                        if doc:\n",
    "                            markdown.append(f\"    {doc.strip()}\\n\\n\")\n",
    "                    elif symbol[0] == 'class':\n",
    "                        _, name, class_doc, class_decorators, methods = symbol\n",
    "                        decorator_str = ' '.join(f'@{d}' for d in class_decorators)\n",
    "                        markdown.append(f\"- `{decorator_str} class {name}`\\n\")\n",
    "                        if class_doc:\n",
    "                            markdown.append(f\"    {class_doc.strip()}\\n\\n\")\n",
    "                        for method_name, method_signature, method_doc, method_decorators in methods:\n",
    "                            method_decorator_str = ' '.join(f'@{d}' for d in method_decorators)\n",
    "                            markdown.append(f\"    - `{method_decorator_str} def {method_signature}`\\n\")\n",
    "                            if method_doc:\n",
    "                                markdown.append(f\"        {method_doc.strip()}\\n\\n\")\n",
    "                        markdown.append(\"\\n\")\n",
    "            else:\n",
    "                if verbose: print(f\"No public symbols found in {module_name}\")\n",
    "        except Exception as e:\n",
    "            raise RuntimeError(f\"Error processing {module_name}: {str(e)}\")\n",
    "        \n",
    "    return ''.join(markdown)"
   ]
  },
  {
   "cell_type": "markdown",
   "metadata": {},
   "source": [
    "Here is a preview of the `fastcore` library, for instance:"
   ]
  },
  {
   "cell_type": "code",
   "execution_count": 15,
   "metadata": {},
   "outputs": [
    {
     "name": "stdout",
     "output_type": "stream",
     "text": [
      "# fastcore Module Documentation\n",
      "\n",
      "## fastcore.basics\n",
      "\n",
      "> Basic functionality used in the fastai library\n",
      "\n",
      "- ` def ifnone(a, b)`\n",
      "    `b` if `a` is None else `a`\n",
      "\n",
      "- ` def maybe_attr(o, attr)`\n",
      "    `getattr(o,attr,o)`\n",
      "\n",
      "- ` def basic_repr(flds)`\n",
      "    Minimal `__repr__`\n",
      "\n",
      "- ` def is_array(x)`\n",
      "    `True` if `x` supports `__array__` or `iloc`\n",
      "\n",
      "- ` def listify(o, *rest)`\n",
      "    Convert `o` to a `list`\n",
      "\n",
      "- ` def tuplify(o, use_list, match)`\n",
      "    Make `o` a tuple\n",
      "\n",
      "- ` def true(x)`\n",
      "    Test whether `x` is truthy; collections with >0 elements are considered `True`\n",
      "\n",
      "- ` class NullType`\n",
      "    An object that is `False` and can be called, chained, and indexed\n",
      "\n",
      "    - ` def __getattr__(self, *args)`\n",
      "    - ` def __call__(self, *args, **kwargs)`\n",
      "    - ` def __getitem__(self, *args)`\n",
      "    - ` def __bool__(self)`\n",
      "\n",
      "- ` def tonull(x)`\n",
      "    Convert `None` to `null`\n",
      "\n",
      "- ` def get_class(nm, *fld_names, **flds)`\n",
      "    Dynamically create a class, optionally inheriting from `sup`, containing `fld_names`\n",
      "\n",
      "- ` def mk_class(nm, *fld_names, **flds)`\n",
      "    Create a class using `get_class` and add to the caller's module\n",
      "\n",
      "- ` def wrap_class(nm, *fld_names, **flds)`\n",
      "    Decorator: makes function a method of a new class `nm` passing parameters to `mk_class`\n",
      "\n",
      "- ` class ignore_exceptions`\n",
      "    Context manager to ignore exceptions\n",
      "\n",
      "    - ` def __enter__(self)`\n",
      "    - ` def __exit__(self, *args)`\n",
      "\n",
      "- ` def exec_local(code, var_name)`\n",
      "    Call `exec` on `code` and return the var `var_name`\n"
     ]
    }
   ],
   "source": [
    "_md = generate_markdown('fastcore', False)\n",
    "_lns = _md.splitlines()\n",
    "print('\\n'.join([x for x in _lns][:55]))"
   ]
  },
  {
   "cell_type": "code",
   "execution_count": 16,
   "metadata": {},
   "outputs": [],
   "source": [
    "#|hide\n",
    "#Test that args and kwargs appear in the markdown doc\n",
    "assert '**kwargs' in [x for x in _lns if 'def urlopen' in x][0]\n",
    "_noops_func = [x for x in _lns if 'def noops' in x][0]\n",
    "assert '**kwargs' in _noops_func and '*args' in _noops_func"
   ]
  },
  {
   "cell_type": "markdown",
   "metadata": {},
   "source": [
    "## Write markdown to file\n",
    "\n",
    "We can generate our list of symbols as a markdown file like so:"
   ]
  },
  {
   "cell_type": "code",
   "execution_count": 17,
   "metadata": {},
   "outputs": [],
   "source": [
    "#|export\n",
    "@call_parse\n",
    "def pysym2md(package_name:Param(\"Name of the Python package\", str),\n",
    "             include_no_docstring:Param(\"Include symbols without docstrings?\", store_true)=False,\n",
    "             verbose:Param(\"Turn on verbose logging?\", store_false)=True,\n",
    "             output_file:Param(\"The output file\", str)='filelist.md'\n",
    "                         ):\n",
    "    \"Generate a list of symbols corresponding to a python package in a markdown format.\"\n",
    "    markdown_content = generate_markdown(package_name, include_no_docstring, verbose)\n",
    "    Path(output_file).write_text(markdown_content)\n",
    "    print(f\"Documentation generated in {output_file}\")"
   ]
  },
  {
   "cell_type": "code",
   "execution_count": 18,
   "metadata": {},
   "outputs": [
    {
     "name": "stdout",
     "output_type": "stream",
     "text": [
      "Processing module: fastcore._modidx\n",
      "No public symbols found in fastcore._modidx\n",
      "Processing module: fastcore._nbdev\n",
      "No public symbols found in fastcore._nbdev\n",
      "Processing module: fastcore.all\n",
      "No public symbols found in fastcore.all\n",
      "Processing module: fastcore.basics\n",
      "Processing module: fastcore.dispatch\n",
      "Processing module: fastcore.docments\n",
      "Processing module: fastcore.docscrape\n",
      "Processing module: fastcore.foundation\n",
      "Processing module: fastcore.imghdr\n",
      "Processing module: fastcore.imports\n",
      "Processing module: fastcore.meta\n",
      "Processing module: fastcore.nb_imports\n",
      "No public symbols found in fastcore.nb_imports\n",
      "Processing module: fastcore.net\n",
      "Processing module: fastcore.parallel\n",
      "Processing module: fastcore.py2pyi\n",
      "Processing module: fastcore.script\n",
      "Processing module: fastcore.shutil\n",
      "No public symbols found in fastcore.shutil\n",
      "Processing module: fastcore.style\n",
      "Processing module: fastcore.test\n",
      "Processing module: fastcore.transform\n",
      "Processing module: fastcore.utils\n",
      "No public symbols found in fastcore.utils\n",
      "Processing module: fastcore.xdg\n",
      "Processing module: fastcore.xml\n",
      "Processing module: fastcore.xtras\n",
      "Documentation generated in filelist.md\n"
     ]
    }
   ],
   "source": [
    "pysym2md('fastcore')"
   ]
  },
  {
   "cell_type": "code",
   "execution_count": 19,
   "metadata": {},
   "outputs": [],
   "source": [
    "#| hide\n",
    "import nbdev; nbdev.nbdev_export()"
   ]
  },
  {
   "cell_type": "code",
   "execution_count": null,
   "metadata": {},
   "outputs": [],
   "source": []
  }
 ],
 "metadata": {
  "kernelspec": {
   "display_name": "Python 3 (ipykernel)",
   "language": "python",
   "name": "python3"
  },
  "language_info": {
   "codemirror_mode": {
    "name": "ipython",
    "version": 3
   },
   "file_extension": ".py",
   "mimetype": "text/x-python",
   "name": "python",
   "nbconvert_exporter": "python",
   "pygments_lexer": "ipython3",
   "version": "3.10.12"
  }
 },
 "nbformat": 4,
 "nbformat_minor": 4
}
