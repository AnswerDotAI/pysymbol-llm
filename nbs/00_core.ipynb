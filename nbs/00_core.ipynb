{
 "cells": [
  {
   "cell_type": "markdown",
   "metadata": {},
   "source": [
    "# core\n",
    "\n",
    "> Fill in a module description here"
   ]
  },
  {
   "cell_type": "code",
   "execution_count": 1,
   "metadata": {},
   "outputs": [],
   "source": [
    "#| default_exp core"
   ]
  },
  {
   "cell_type": "code",
   "execution_count": 2,
   "metadata": {},
   "outputs": [],
   "source": [
    "import importlib\n",
    "import pkgutil\n",
    "from astroid import MANAGER, FunctionDef, ClassDef\n",
    "import logging\n",
    "import argparse\n",
    "import traceback"
   ]
  },
  {
   "cell_type": "code",
   "execution_count": 50,
   "metadata": {},
   "outputs": [],
   "source": [
    "#|hide\n",
    "from fastcore.test import test_eq\n",
    "from astroid import parse, extract_node"
   ]
  },
  {
   "cell_type": "code",
   "execution_count": 42,
   "metadata": {},
   "outputs": [],
   "source": [
    "#| export\n",
    "def format_symbol(name, signature, doc, decorators=None, is_method=False):\n",
    "    \"format the information in markdown\"\n",
    "    params = signature.split('(', 1)[1].rsplit(')', 1)[0] if '(' in signature else ''\n",
    "    decorator_str = ' '.join(f'@{d}' for d in decorators) + ' ' if decorators else ''\n",
    "    formatted = f\"- `{decorator_str}{name}({params})`\\n\" if is_method else f\"- `{decorator_str}def {name}({params})`\\n\"    \n",
    "    if doc:\n",
    "        doc_lines = doc.strip().split('\\n')\n",
    "        formatted += '    ' + '\\n    '.join(doc_lines) + '\\n'\n",
    "    return formatted"
   ]
  },
  {
   "cell_type": "code",
   "execution_count": 43,
   "metadata": {},
   "outputs": [],
   "source": [
    "#|hide\n",
    "test_eq(format_symbol(\"hello\", \"hello()\", \"This is a test function\"), \"- `def hello()`\\n    This is a test function\\n\")\n",
    "\n",
    "# Test method formatting\n",
    "test_eq(format_symbol(\"world\", \"world(self)\", \"A method\", is_method=True), \"- `world(self)`\\n    A method\\n\")\n",
    "\n",
    "# Test with decorators\n",
    "test_eq(format_symbol(\"decorated\", \"decorated()\", \"Decorated function\", decorators=[\"decorator1\", \"decorator2\"]), \"- `@decorator1 @decorator2 def decorated()`\\n    Decorated function\\n\")\n",
    "\n",
    "# Test with parameters\n",
    "test_eq(format_symbol(\"params\", \"params(a, b, c=None)\", \"Function with parameters\"), \"- `def params(a, b, c=None)`\\n    Function with parameters\\n\")\n",
    "\n",
    "# Test with multi-line docstring\n",
    "test_eq(format_symbol(\"multiline\", \"multiline()\", \"First line\\nSecond line\\nThird line\"), \"- `def multiline()`\\n    First line\\n    Second line\\n    Third line\\n\")\n",
    "\n",
    "# Test with no docstring\n",
    "test_eq(format_symbol(\"no_doc\", \"no_doc()\", \"\"), \"- `def no_doc()`\\n\")\n",
    "\n",
    "# Test method with decorators and parameters\n",
    "test_eq(format_symbol(\"complex\", \"complex(self, x, y=0)\", \"Complex method\", decorators=[\"classmethod\"], is_method=True), \"- `@classmethod complex(self, x, y=0)`\\n    Complex method\\n\")"
   ]
  },
  {
   "cell_type": "code",
   "execution_count": 44,
   "metadata": {},
   "outputs": [],
   "source": [
    "#| export\n",
    "def is_public_symbol(name): return not name.startswith('_') or (name.startswith('__') and name.endswith('__'))\n",
    "def is_valid_method(method, method_name): return isinstance(method, FunctionDef) and is_public_symbol(method_name)\n",
    "def get_params(func): return ', '.join(arg.name for arg in func.args.args)\n",
    "def get_decorators(obj): return [d.as_string() for d in obj.decorators.nodes] if obj.decorators else []\n",
    "def log_error(name, error): raise RuntimeError(f\"Error processing symbol {name}: {str(error)}\")"
   ]
  },
  {
   "cell_type": "code",
   "execution_count": 47,
   "metadata": {},
   "outputs": [],
   "source": [
    "def process_function(func, name, include_no_docstring):\n",
    "    \"Parse functions\"\n",
    "    params = get_params(func)\n",
    "    signature = f\"{name}({params})\"\n",
    "    doc = func.doc_node.value if func.doc_node else \"\"\n",
    "    decorators = get_decorators(func)\n",
    "    if include_no_docstring or doc:\n",
    "        return ('function', name, signature, doc, decorators)\n",
    "    return None"
   ]
  },
  {
   "cell_type": "code",
   "execution_count": 46,
   "metadata": {},
   "outputs": [],
   "source": [
    "#|hide\n",
    "# Test case 1: Function with docstring\n",
    "func_with_doc = parse('''\n",
    "def test_func(a, b):\n",
    "    \"\"\"This is a test function\"\"\"\n",
    "    pass\n",
    "''').body[0]\n",
    "\n",
    "result = process_function(func_with_doc, 'test_func', False)\n",
    "test_eq(result, ('function', 'test_func', 'test_func(a, b)', 'This is a test function', []))"
   ]
  },
  {
   "cell_type": "code",
   "execution_count": 66,
   "metadata": {},
   "outputs": [],
   "source": [
    "#|export\n",
    "def _process_method(method, method_name):\n",
    "    method_params = get_params(method)\n",
    "    method_signature = f\"{method_name}({method_params})\"\n",
    "    method_doc = method.doc_node.value if method.doc_node else \"\"\n",
    "    method_decorators = get_decorators(method)\n",
    "    return (method_name, method_signature, method_doc, method_decorators)\n",
    "\n",
    "def process_class(cls, name, include_no_docstring):\n",
    "    \"Parse classes.\"\n",
    "    class_doc = cls.doc_node.value if cls.doc_node else \"\"\n",
    "    class_decorators = get_decorators(cls)\n",
    "    methods = [_process_method(method, method_name) \n",
    "               for method_name, method in cls.items() \n",
    "               if is_valid_method(method, method_name)]\n",
    "    return ('class', name, class_doc, class_decorators, methods)"
   ]
  },
  {
   "cell_type": "code",
   "execution_count": 67,
   "metadata": {},
   "outputs": [],
   "source": [
    "#|hide\n",
    "mock_class = extract_node('''\n",
    "@decorator\n",
    "class TestClass:\n",
    "    \"\"\"\n",
    "    Class docstring\n",
    "    with multiple lines\n",
    "    \"\"\"\n",
    "    @staticmethod\n",
    "    def method1(arg1):\n",
    "        \"\"\"\n",
    "        Method1 docstring\n",
    "        with multiple lines\n",
    "        \"\"\"\n",
    "        pass\n",
    "    def method2(self):\n",
    "        \"\"\"Single line docstring\"\"\"\n",
    "        pass\n",
    "''')\n",
    "\n",
    "# Process the class\n",
    "result = process_class(mock_class, \"TestClass\", True)\n",
    "\n",
    "# Test equality\n",
    "test_eq(result, (\n",
    "    'class',\n",
    "    'TestClass',\n",
    "    '\\n    Class docstring\\n    with multiple lines\\n    ',\n",
    "    ['decorator'],\n",
    "    [\n",
    "        ('method1', 'method1(arg1)', '\\n        Method1 docstring\\n        with multiple lines\\n        ', ['staticmethod']),\n",
    "        ('method2', 'method2(self)', 'Single line docstring', [])\n",
    "    ]\n",
    "))"
   ]
  },
  {
   "cell_type": "code",
   "execution_count": 68,
   "metadata": {},
   "outputs": [],
   "source": [
    "def get_public_symbols(module, include_no_docstring):\n",
    "    symbols = []\n",
    "    for name, obj in module.items():\n",
    "        if is_public_symbol(name):\n",
    "            try:\n",
    "                if isinstance(obj, FunctionDef):\n",
    "                    symbol = process_function(obj, name, include_no_docstring)\n",
    "                    if symbol: symbols.append(symbol)\n",
    "                elif isinstance(obj, ClassDef):\n",
    "                    symbols.append(process_class(obj, name, include_no_docstring))\n",
    "            except Exception as e: log_error(name, e)\n",
    "    return symbols"
   ]
  },
  {
   "cell_type": "code",
   "execution_count": 77,
   "metadata": {},
   "outputs": [],
   "source": [
    "#|hide\n",
    "test_module = parse('''\n",
    "def public_function():\n",
    "    \"\"\"This is a public function\"\"\"\n",
    "    pass\n",
    "\n",
    "def _private_function(): pass\n",
    "\n",
    "class PublicClass:\n",
    "    \"\"\"This is a public class\"\"\"\n",
    "    def method(self):\n",
    "        pass\n",
    "    def _private_method(): pass\n",
    "\n",
    "_private_function = lambda: None\n",
    "''')\n",
    "\n",
    "# Test 1: Get public symbols without including symbols that lack docstrings\n",
    "result = get_public_symbols(test_module, False)\n",
    "\n",
    "# Should have 2 public symbols\n",
    "test_eq(len(result), 2)\n",
    "# First item should be public_function\n",
    "test_eq(result[0][1], 'public_function')\n",
    "# Second item should be PublicClass\n",
    "test_eq(result[1][1], 'PublicClass')\n",
    "\n",
    "# Test 2: Get public symbols including symbols that lack docstrings\n",
    "result_with_no_docstring = get_public_symbols(test_module, True)\n",
    "\n",
    "# Should still have 2 public symbols\n",
    "test_eq(len(result_with_no_docstring), 2)\n",
    "# PublicClass should have 1 public method\n",
    "test_eq(len(result_with_no_docstring[1][4]), 1)\n",
    "# PublicClass should include 'method'\n",
    "test_eq(result_with_no_docstring[1][4][0][0], 'method')\n"
   ]
  },
  {
   "cell_type": "code",
   "execution_count": null,
   "metadata": {},
   "outputs": [],
   "source": [
    "#| hide\n",
    "import nbdev; nbdev.nbdev_export()"
   ]
  }
 ],
 "metadata": {
  "kernelspec": {
   "display_name": "Python 3 (ipykernel)",
   "language": "python",
   "name": "python3"
  },
  "language_info": {
   "codemirror_mode": {
    "name": "ipython",
    "version": 3
   },
   "file_extension": ".py",
   "mimetype": "text/x-python",
   "name": "python",
   "nbconvert_exporter": "python",
   "pygments_lexer": "ipython3",
   "version": "3.10.12"
  }
 },
 "nbformat": 4,
 "nbformat_minor": 4
}
